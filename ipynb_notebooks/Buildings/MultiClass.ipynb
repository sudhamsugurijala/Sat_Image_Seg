{
 "cells": [
  {
   "cell_type": "markdown",
   "id": "given-morocco",
   "metadata": {},
   "source": [
    "## Include libraries, Set GPU 1 visible"
   ]
  },
  {
   "cell_type": "code",
   "execution_count": null,
   "id": "manual-jurisdiction",
   "metadata": {},
   "outputs": [],
   "source": [
    "# Header Files\n",
    "import io\n",
    "import os\n",
    "\n",
    "os.environ['CUDA_VISIBLE_DEVICES'] = '1'\n",
    "os.environ['TF_CPP_MIN_LOG_LEVEL'] = '2'\n",
    "\n",
    "import sys\n",
    "import random\n",
    "import warnings\n",
    "\n",
    "import h5py\n",
    "import numpy as np\n",
    "from PIL import Image\n",
    "import matplotlib.pyplot as plt\n",
    "import cv2\n",
    "\n",
    "#from tqdm import tqdm \n",
    "\n",
    "from itertools import chain\n",
    "from skimage.io import imread, imshow, imread_collection, concatenate_images\n",
    "from skimage.transform import resize\n",
    "from skimage.morphology import label\n",
    "\n",
    "import tensorflow as tf\n",
    "from tensorflow import keras\n",
    "from tensorflow.keras.preprocessing.image import load_img\n",
    "from keras.models import Model, load_model\n",
    "from keras.layers import Input, BatchNormalization, Activation\n",
    "from keras.layers.core import Dropout, Lambda\n",
    "from keras.layers.convolutional import Conv2D, Conv2DTranspose\n",
    "from keras.layers.pooling import MaxPooling2D\n",
    "from keras.layers.merge import concatenate\n",
    "from keras.callbacks import EarlyStopping, ModelCheckpoint\n",
    "from tensorflow.keras import backend as K\n",
    "#from keras.models import model_from_json\n"
   ]
  },
  {
   "cell_type": "markdown",
   "id": "noticed-produce",
   "metadata": {},
   "source": [
    "## Set options for GPU use"
   ]
  },
  {
   "cell_type": "code",
   "execution_count": null,
   "id": "electric-dutch",
   "metadata": {},
   "outputs": [],
   "source": [
    "gpu_options = tf.compat.v1.GPUOptions(per_process_gpu_memory_fraction=0.35)\n",
    "config=tf.compat.v1.ConfigProto(gpu_options=gpu_options)\n",
    "config.log_device_placement = False  # to log device placement (on which device the operation ran)\n",
    "sess = tf.compat.v1.Session(config=config)\n",
    "tf.compat.v1.keras.backend.set_session(sess)  # set this TensorFlow session as the default session for Keras"
   ]
  },
  {
   "cell_type": "markdown",
   "id": "close-redhead",
   "metadata": {},
   "source": [
    "## Set variables"
   ]
  },
  {
   "cell_type": "code",
   "execution_count": null,
   "id": "editorial-perception",
   "metadata": {},
   "outputs": [],
   "source": [
    "# Path Variables\n",
    "INPUT_H5 = \"data_images.h5\"\n",
    "MASKS_H5 = \"data_masks\"\n",
    "MODEL_H5 = \"building_weights_2.h5\"\n",
    "\n",
    "# Size Variables\n",
    "\n",
    "IMG_SIZE = (256,256)\n",
    "BATCH_SIZE = 64\n",
    "EPOCHS = 10\n",
    "SEED = 303"
   ]
  },
  {
   "cell_type": "markdown",
   "id": "contained-student",
   "metadata": {},
   "source": [
    "## Input from H5"
   ]
  },
  {
   "cell_type": "code",
   "execution_count": null,
   "id": "organizational-crest",
   "metadata": {},
   "outputs": [],
   "source": [
    "class DataLoad(keras.utils.Sequence):\n",
    "    \"\"\"Helper to iterate over the data (as Numpy arrays).\"\"\"\n",
    "\n",
    "    def __init__(self, input_img_paths, target_img_paths):\n",
    "        self.input_img_paths = input_img_paths\n",
    "        self.target_img_paths = target_img_paths\n",
    "\n",
    "    def __len__(self):\n",
    "        return len(self.target_img_paths) // BATCH_SIZE\n",
    "\n",
    "    def __getitem__(self, idx):\n",
    "        \"\"\"Returns tuple (input, target) correspond to batch #idx.\"\"\"\n",
    "        i = idx * BATCH_SIZE\n",
    "        batch_input_img_paths = self.input_img_paths[i : i + BATCH_SIZE]\n",
    "        batch_target_img_paths = self.target_img_paths[i : i + BATCH_SIZE]\n",
    "        x= np.zeros((BATCH_SIZE, 256,256,3), dtype=np.float32)\n",
    "        for j, path in enumerate(batch_input_img_paths):\n",
    "            h5 = h5py.File(INPUT_H5, 'r')\n",
    "            data=h5.get(path)\n",
    "            data=np.array(data)\n",
    "            img = Image.open(io.BytesIO(data))\n",
    "            img=np.array(img)\n",
    "            \n",
    "            assert img.shape == (256, 256, 3)\n",
    "            x[j] = img\n",
    "        \n",
    "        y=np.zeros((BATCH_SIZE, 256, 256, 1), dtype=np.uint8)\n",
    "        for j, path in enumerate(batch_target_img_paths):\n",
    "            h51=h5py.File(MASKS_H5,'r')\n",
    "            data=h51.get(path)\n",
    "            data=np.array(data)\n",
    "            mask=Image.open(io.BytesIO(data)).convert('L')\n",
    "            mask=np.array(mask)\n",
    "            mask=np.expand_dims(mask, axis=-1)\n",
    "            \n",
    "            assert mask.shape == (256, 256, 1)\n",
    "            y[j]=mask\n",
    "            \n",
    "        return x, y\n",
    "    \n"
   ]
  },
  {
   "cell_type": "code",
   "execution_count": null,
   "id": "sacred-economics",
   "metadata": {},
   "outputs": [],
   "source": [
    "hf1 = h5py.File(INPUT_H5, 'r')\n",
    "hf2 = h5py.File(MASKS_H5,'r')\n",
    "\n",
    "input_image=[]\n",
    "input_mask=[]\n",
    "\n",
    "input_image = list(hf1.keys())\n",
    "input_image = sorted(input_image)\n",
    "#print(input_image)\n",
    "\n",
    "input_mask = list(hf2.keys())\n",
    "input_mask  = sorted(input_mask)\n",
    "#print(input_mask)\n",
    "\n",
    "print(len(input_image))\n",
    "print(len(input_mask))\n",
    "\n",
    "hf1.close()\n",
    "hf2.close()\n"
   ]
  },
  {
   "cell_type": "code",
   "execution_count": null,
   "id": "broadband-restaurant",
   "metadata": {},
   "outputs": [],
   "source": [
    "VAL_SAMPLES = 28074\n",
    "random.Random(SEED).shuffle(input_image)\n",
    "random.Random(SEED).shuffle(input_mask)\n",
    "\n",
    "train_input_img_paths  =  input_image[:-VAL_SAMPLES]\n",
    "train_target_img_paths =  input_mask[:-VAL_SAMPLES]\n",
    "val_input_img_paths    =  input_image[-VAL_SAMPLES:]\n",
    "val_target_img_paths   =  input_mask[-VAL_SAMPLES:]\n",
    "\n",
    "train_input_img_paths=sorted(train_input_img_paths)\n",
    "train_target_img_paths=sorted(train_target_img_paths)\n",
    "val_input_img_paths=sorted(val_input_img_paths)\n",
    "val_target_img_paths=sorted(val_target_img_paths)"
   ]
  },
  {
   "cell_type": "markdown",
   "id": "spanish-relief",
   "metadata": {},
   "source": [
    "## U-Net helper functions"
   ]
  },
  {
   "cell_type": "code",
   "execution_count": null,
   "id": "fiscal-coordinate",
   "metadata": {},
   "outputs": [],
   "source": [
    "IMG_WIDTH=256\n",
    "IMG_HEIGHT=256\n",
    "IMG_CHANNELS=3\n",
    "\n",
    "NUM_CLASSES = 4\n",
    "OPTIMIZER = 'adam'\n",
    "\n",
    "#BUILD THE U-NET MODEL\n",
    "def conv_block(tensor, nfilters, size=3, padding='same', initializer=\"he_normal\"):\n",
    "    x = Conv2D(filters=nfilters, kernel_size=(size, size), padding=padding, kernel_initializer=initializer)(tensor)\n",
    "    x = BatchNormalization()(x)\n",
    "    x = Activation(\"relu\")(x)\n",
    "    x = Conv2D(filters=nfilters, kernel_size=(size, size), padding=padding, kernel_initializer=initializer)(x)\n",
    "    x = BatchNormalization()(x)\n",
    "    x = Activation(\"relu\")(x)\n",
    "    return x\n",
    "\n",
    "\n",
    "def deconv_block(tensor, residual, nfilters, size=3, padding='same', strides=(2, 2)):\n",
    "    y = Conv2DTranspose(nfilters, kernel_size=(size, size), strides=strides, padding=padding)(tensor)\n",
    "    y = concatenate([y, residual], axis=3)\n",
    "    y = conv_block(y, nfilters)\n",
    "    return y\n",
    "\n"
   ]
  },
  {
   "cell_type": "markdown",
   "id": "progressive-jenny",
   "metadata": {},
   "source": [
    "## Vanilla (Normal) U-Net\n",
    "\n",
    "output = 256 x 256"
   ]
  },
  {
   "cell_type": "code",
   "execution_count": null,
   "id": "artificial-league",
   "metadata": {},
   "outputs": [],
   "source": [
    "######################### BASELINE VANILLA UNET #########################################\n",
    "\n",
    "def uNet(img_height=IMG_HEIGHT, img_width=IMG_WIDTH, nclasses=NUM_CLASSES, filters=16):\n",
    "    # Contraction Path\n",
    "    input_layer = Input(shape=(img_height, img_width, 3), name='image_input')\n",
    "    conv1 = conv_block(input_layer, nfilters=filters)\n",
    "    conv1_out = MaxPooling2D(pool_size=(2, 2))(conv1)\n",
    "    conv2 = conv_block(conv1_out, nfilters=filters*2)\n",
    "    conv2_out = MaxPooling2D(pool_size=(2, 2))(conv2)\n",
    "    conv3 = conv_block(conv2_out, nfilters=filters*4)\n",
    "    conv3_out = MaxPooling2D(pool_size=(2, 2))(conv3)\n",
    "    conv4 = conv_block(conv3_out, nfilters=filters*8)\n",
    "    conv4_out = MaxPooling2D(pool_size=(2, 2))(conv4)\n",
    "    conv4_out = Dropout(0.5)(conv4_out)\n",
    "    conv5 = conv_block(conv4_out, nfilters=filters*16)\n",
    "    conv5 = Dropout(0.5)(conv5)\n",
    "    \n",
    "    # Expansion Path\n",
    "    deconv6 = deconv_block(conv5, residual=conv4, nfilters=filters*8)\n",
    "    deconv6 = Dropout(0.5)(deconv6)\n",
    "    deconv7 = deconv_block(deconv6, residual=conv3, nfilters=filters*4)\n",
    "    deconv7 = Dropout(0.5)(deconv7)\n",
    "    deconv8 = deconv_block(deconv7, residual=conv2, nfilters=filters*2)\n",
    "    deconv9 = deconv_block(deconv8, residual=conv1, nfilters=filters)\n",
    "\n",
    "    # output\n",
    "    output_layer = Conv2D(filters=NUM_CLASSES, kernel_size=(1, 1))(deconv9)\n",
    "    output_layer = BatchNormalization()(output_layer)\n",
    "    output_layer = Activation('softmax')(output_layer)\n",
    "\n",
    "    model = Model(inputs=input_layer, outputs=output_layer, name='Unet')\n",
    "    \n",
    "    return model\n",
    "\n"
   ]
  },
  {
   "cell_type": "markdown",
   "id": "focused-hindu",
   "metadata": {},
   "source": [
    "## U-Net with Resnet101 encoder\n",
    "\n",
    "output = 256 x 256"
   ]
  },
  {
   "cell_type": "code",
   "execution_count": null,
   "id": "acoustic-monroe",
   "metadata": {},
   "outputs": [],
   "source": [
    "###################### UNET WITH RESNET ENCODER #######################################\n",
    "\n",
    "resnet = tf.keras.applications.ResNet101(\n",
    "        include_top=False,\n",
    "        weights='imagenet',\n",
    "        input_shape=(256, 256, 3),\n",
    "        pooling=max\n",
    "    )\n",
    "# FREEZE layers\n",
    "resnet.trainable = False\n",
    "\n",
    "def uNetResnet(img_height=IMG_HEIGHT, img_width=IMG_WIDTH, nclasses=NUM_CLASSES, filters=64):\n",
    "    input_layer = resnet.input\n",
    "    \n",
    "    # Contraction path\n",
    "    conv1 = resnet.get_layer('conv1_relu').output # 64 filters\n",
    "    conv2 = resnet.get_layer('conv2_block3_out').output # 256\n",
    "    conv3 = resnet.get_layer('conv3_block4_out').output # 512\n",
    "    conv4 = resnet.get_layer('conv4_block23_out').output # 1024\n",
    "    conv5 = resnet.get_layer('conv5_block3_out').output # 2048\n",
    "    conv5 = Dropout(0.5)(conv5)\n",
    "    \n",
    "    # Expansion Path\n",
    "    deconv4 = deconv_block(conv5, residual=conv4, nfilters=filters*16)\n",
    "    deconv4 = Dropout(0.3)(deconv4)\n",
    "    deconv3 = deconv_block(deconv4, residual=conv3, nfilters=filters*8)\n",
    "    deconv3 = Dropout(0.5)(deconv3)\n",
    "    deconv2 = deconv_block(deconv3, residual=conv2, nfilters=filters*4)\n",
    "    deconv1 = deconv_block(deconv2, residual=conv1, nfilters=filters)\n",
    "    \n",
    "    # Output\n",
    "    output_layer = Conv2DTranspose(filters//2, kernel_size=(3, 3), strides=(2, 2), padding='same')(deconv1)\n",
    "    output_layer = conv_block(output_layer, nfilters=filters//4)\n",
    "    output_layer = Conv2D(filters=NUM_CLASSES, kernel_size=(1, 1))(output_layer)\n",
    "    output_layer = BatchNormalization()(output_layer)\n",
    "    output_layer = Activation('softmax')(output_layer)\n",
    "    \n",
    "    model = Model(inputs=input_layer, outputs=output_layer, name='Unet')\n",
    "    return model\n",
    "\n"
   ]
  },
  {
   "cell_type": "markdown",
   "id": "finnish-wright",
   "metadata": {},
   "source": [
    "## Data generators"
   ]
  },
  {
   "cell_type": "code",
   "execution_count": null,
   "id": "ambient-monster",
   "metadata": {},
   "outputs": [],
   "source": [
    "train_gen = DataLoad(train_input_img_paths, train_target_img_paths)\n",
    "val_gen = DataLoad(val_input_img_paths, val_target_img_paths)\n",
    "\n",
    "print(len(train_gen))\n",
    "print(len(val_gen))"
   ]
  },
  {
   "cell_type": "markdown",
   "id": "activated-cross",
   "metadata": {},
   "source": [
    "## Callbacks and metrics"
   ]
  },
  {
   "cell_type": "code",
   "execution_count": null,
   "id": "incorporated-negative",
   "metadata": {},
   "outputs": [],
   "source": [
    "callbacks = [\n",
    "        tf.keras.callbacks.EarlyStopping(patience=4, monitor='loss'),\n",
    "        tf.keras.callbacks.TensorBoard(log_dir='logs', write_graph=True),\n",
    "        tf.keras.callbacks.ModelCheckpoint(MODEL_H5, monitor='loss', verbose=1, save_best_only=True)\n",
    "]"
   ]
  },
  {
   "cell_type": "markdown",
   "id": "bulgarian-alpha",
   "metadata": {},
   "source": [
    "## Initialize model"
   ]
  },
  {
   "cell_type": "code",
   "execution_count": null,
   "id": "dated-annex",
   "metadata": {},
   "outputs": [],
   "source": [
    "#model = uNet()\n",
    "#model = uNetResnet()\n",
    "\n",
    "# Compile if any of above fresh models are used\n",
    "#model.compile(optimizer=OPTIMIZER, loss='sparse_categorical_crossentropy', metrics=['accuracy'])\n",
    "\n",
    "#model = load_model(\"resnet_adam_50epochs.h5\")\n",
    "\n",
    "# Uncomment line below when fine tuning\n",
    "#model.trainable = True"
   ]
  },
  {
   "cell_type": "markdown",
   "id": "artistic-knitting",
   "metadata": {},
   "source": [
    "## Train Model"
   ]
  },
  {
   "cell_type": "code",
   "execution_count": null,
   "id": "detailed-conjunction",
   "metadata": {},
   "outputs": [],
   "source": [
    "results = model.fit(train_gen,epochs=EPOCHS,batch_size=BATCH_SIZE, verbose=1, validation_data=val_gen,callbacks=callbacks)\n",
    "print(results)\n",
    "\n",
    "model.save(\"model_weights_all_epochs.h5\")\n",
    "\n",
    "print(\"Model Saved\")"
   ]
  },
  {
   "cell_type": "code",
   "execution_count": null,
   "id": "running-resource",
   "metadata": {},
   "outputs": [],
   "source": [
    "print(results.history)"
   ]
  },
  {
   "cell_type": "markdown",
   "id": "intensive-statistics",
   "metadata": {},
   "source": [
    "## Testing model"
   ]
  },
  {
   "cell_type": "code",
   "execution_count": null,
   "id": "behavioral-spyware",
   "metadata": {},
   "outputs": [],
   "source": [
    "model = load_model('resnet_adam_50epochs.h5')\n",
    "X_pred = Image.open(\"ssn_sample.jpg\", 'r').resize((256, 256))\n",
    "display(X_pred)\n",
    "\n",
    "X_pred = np.array(X_pred)\n",
    "X_pred = np.array([X_pred])\n",
    "\n",
    "Y_pred = model.predict(X_pred)\n",
    "\n",
    "print(Y_pred[0].shape)"
   ]
  },
  {
   "cell_type": "code",
   "execution_count": null,
   "id": "flying-coalition",
   "metadata": {},
   "outputs": [],
   "source": [
    "test = np.argmax(Y_pred[0], axis=2)\n",
    "test = np.expand_dims(test, axis=-1)\n",
    "np.unique(test)"
   ]
  },
  {
   "cell_type": "code",
   "execution_count": null,
   "id": "secondary-budget",
   "metadata": {},
   "outputs": [],
   "source": [
    "mask = np.zeros((256, 256, 3), dtype=np.uint8)\n",
    "for i in range(256):\n",
    "    for j in range(256):\n",
    "        if test[i][j] == 0:\n",
    "            mask[i][j] = [255, 255, 255]\n",
    "        elif test[i][j] == 1: # BUILDING\n",
    "            mask[i][j] = [255, 0, 0]\n",
    "        elif test[i][j] == 2: # Green\n",
    "            mask[i][j] = [0, 255, 0]\n",
    "        elif test[i][j] == 3: # Water\n",
    "            mask[i][j] = [0, 0, 255]"
   ]
  },
  {
   "cell_type": "code",
   "execution_count": null,
   "id": "military-politics",
   "metadata": {},
   "outputs": [],
   "source": [
    "mask = Image.fromarray(mask)\n",
    "display(mask)"
   ]
  },
  {
   "cell_type": "code",
   "execution_count": null,
   "id": "inner-profession",
   "metadata": {},
   "outputs": [],
   "source": [
    "h51=h5py.File(MASKS_H5,'r')\n",
    "data=h51.get(list(h51.keys())[0])\n",
    "data=np.array(data)\n",
    "mask=Image.open(io.BytesIO(data)).convert('L')\n",
    "mask=np.array(mask)\n",
    "mask=np.expand_dims(mask, axis=-1)\n",
    "print(mask)"
   ]
  },
  {
   "cell_type": "code",
   "execution_count": null,
   "id": "sticky-punch",
   "metadata": {},
   "outputs": [],
   "source": []
  }
 ],
 "metadata": {
  "kernelspec": {
   "display_name": "satelliteFYP",
   "language": "python",
   "name": "satellitefyp"
  },
  "language_info": {
   "codemirror_mode": {
    "name": "ipython",
    "version": 3
   },
   "file_extension": ".py",
   "mimetype": "text/x-python",
   "name": "python",
   "nbconvert_exporter": "python",
   "pygments_lexer": "ipython3",
   "version": "3.6.13"
  }
 },
 "nbformat": 4,
 "nbformat_minor": 5
}
